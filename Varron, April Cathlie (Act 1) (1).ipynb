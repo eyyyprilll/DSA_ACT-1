{
 "cells": [
  {
   "cell_type": "markdown",
   "metadata": {},
   "source": [
    "Varron, April Cathlie (DSA_ACtivity 1)"
   ]
  },
  {
   "cell_type": "markdown",
   "metadata": {},
   "source": [
    "Program 1 (Temperature Converter)"
   ]
  },
  {
   "cell_type": "code",
   "execution_count": null,
   "metadata": {},
   "outputs": [],
   "source": [
    "def temperature_converter():\n",
    "    temperature = float(input(\"Hi! Please Enter a Valid Temperature.: \"))\n",
    "\n",
    "\n",
    "    print(\"Select what type of Conversion: \") #Ask the user to input a temp.\n",
    "    print(\"A. Celsius (°C) to Fahrenheit (°F)\")\n",
    "    print(\"B. Fahrenheit (°F) to Celsius (°C)\")\n",
    "    type = int(input(\"Choose between 2 or 3: \")) \n",
    "\n",
    "    if type == 2: #Celsius to Fahreinheit \n",
    "        converted = (temperature*9/5) + 32\n",
    "        print(f\"{temperature}°C is {converted} °F in Fahreinheit\")\n",
    "    elif type == 3: #Fahreinheit to Celsius\n",
    "        converted = (temperature - 32) * 5/9 \n",
    "        print(f\"{temperature} °F is {converted} °C in Celsius \")\n",
    "    else: \n",
    "        print(\"ERROR! Please Choose Between A or B.\")\n",
    "\n",
    "temperature_converter()\n",
    "\n"
   ]
  },
  {
   "cell_type": "markdown",
   "metadata": {},
   "source": [
    "Program 2 (Ohm's Law)"
   ]
  },
  {
   "cell_type": "code",
   "execution_count": null,
   "metadata": {},
   "outputs": [],
   "source": [
    "def calculate_ohms_law():\n",
    "\n",
    "    choice = input(\"Enter the number of your choice: (1) Voltage, (2) Current, (3) Resistance \")\n",
    "\n",
    "    if choice == '1':\n",
    "        current = float(input(\"Current (I) in Amperes: \"))\n",
    "        resistance = float(input(\"Resistance (R) in Ohms: \"))\n",
    "        voltage = current * resistance\n",
    "        print(f\"The Voltage (V) is {voltage} Volts.\")\n",
    "    elif choice == '2':\n",
    "        voltage = float(input(\"Voltage (V) in Volts is: \"))\n",
    "        resistance = float(input(\"Resistance (R) in Ohms: \"))\n",
    "        if resistance == 0:\n",
    "            print(\"Resistance can't be ZERO (0)!\")\n",
    "        else:\n",
    "            current = voltage / resistance\n",
    "            print(f\"The Current (I) is {current} amperes.\")\n",
    "    elif choice == '3':\n",
    "        voltage = float(input(\"Voltage (V) in Volts: \"))\n",
    "        current = float(input(\"Current (I) in amperes: \"))\n",
    "        if current == 0:\n",
    "            print(\"The Current can't be ZERO (0)!\")\n",
    "        else:\n",
    "            resistance = voltage / current\n",
    "            print(f\"The Resistance (R) is {resistance} Ohms.\")\n",
    "    else:\n",
    "        print(\"Invalid choice. Please select from the following numbers 1, 2, or 3.\")\n",
    "\n",
    "calculate_ohms_law()\n",
    "\n"
   ]
  },
  {
   "cell_type": "markdown",
   "metadata": {},
   "source": [
    "Program 3 (Diamond)"
   ]
  },
  {
   "cell_type": "code",
   "execution_count": 1,
   "metadata": {},
   "outputs": [
    {
     "name": "stdout",
     "output_type": "stream",
     "text": [
      "Invalid! Please enter an ODD integer. \n"
     ]
    }
   ],
   "source": [
    "def print_diamond():\n",
    "    n = int(input(\"Enter an ODD integer: \"))\n",
    "    if n % 2 == 0:\n",
    "        print(\"Invalid! Please enter an ODD integer. \")\n",
    "        return\n",
    "    \n",
    "    for i in range(n):\n",
    "        if i <= n // 2:\n",
    "            print(' ' * (n // 2 - i) + '*' * (2 * i + 1))\n",
    "        else:\n",
    "            print(' ' * (i - n // 2) + '*' * (2 * (n - i) - 1))\n",
    "\n",
    "print_diamond()\n",
    "\n",
    "\n"
   ]
  }
 ],
 "metadata": {
  "kernelspec": {
   "display_name": "Python 3",
   "language": "python",
   "name": "python3"
  },
  "language_info": {
   "codemirror_mode": {
    "name": "ipython",
    "version": 3
   },
   "file_extension": ".py",
   "mimetype": "text/x-python",
   "name": "python",
   "nbconvert_exporter": "python",
   "pygments_lexer": "ipython3",
   "version": "3.12.2"
  }
 },
 "nbformat": 4,
 "nbformat_minor": 2
}
